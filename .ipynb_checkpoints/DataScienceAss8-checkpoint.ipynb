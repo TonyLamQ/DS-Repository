{
 "cells": [
  {
   "cell_type": "code",
   "execution_count": 1,
   "id": "e44be7b9",
   "metadata": {},
   "outputs": [],
   "source": [
    "import pandas as pd\n",
    "import seaborn as sns"
   ]
  },
  {
   "cell_type": "code",
   "execution_count": 2,
   "id": "bdebb5eb",
   "metadata": {},
   "outputs": [],
   "source": [
    "data = pd.read_csv('indian_food.csv', sep=',')"
   ]
  },
  {
   "cell_type": "code",
   "execution_count": 3,
   "id": "5b95d553",
   "metadata": {},
   "outputs": [
    {
     "data": {
      "text/plain": [
       "(29.53962251288196, 39.519201016529806)"
      ]
     },
     "execution_count": 3,
     "metadata": {},
     "output_type": "execute_result"
    }
   ],
   "source": [
    "import scipy.stats as st\n",
    "confidence = 0.90\n",
    "st.t.interval(confidence, len(data['cook_time'])-1, loc = data['cook_time'].mean(), scale = st.sem(data['cook_time']))"
   ]
  },
  {
   "cell_type": "code",
   "execution_count": 4,
   "id": "3c73e1f3",
   "metadata": {},
   "outputs": [
    {
     "data": {
      "text/plain": [
       "(28.57703473363766, 40.48178879577411)"
      ]
     },
     "execution_count": 4,
     "metadata": {},
     "output_type": "execute_result"
    }
   ],
   "source": [
    "confidence = 0.95\n",
    "st.t.interval(confidence, len(data['cook_time'])-1, loc = data['cook_time'].mean(), scale = st.sem(data['cook_time']))"
   ]
  },
  {
   "cell_type": "code",
   "execution_count": 5,
   "id": "b7cedd16",
   "metadata": {},
   "outputs": [
    {
     "data": {
      "text/plain": [
       "(26.685014818632137, 42.37380871077963)"
      ]
     },
     "execution_count": 5,
     "metadata": {},
     "output_type": "execute_result"
    }
   ],
   "source": [
    "confidence = 0.99\n",
    "st.t.interval(confidence, len(data['cook_time'])-1, loc = data['cook_time'].mean(), scale = st.sem(data['cook_time']))"
   ]
  },
  {
   "cell_type": "code",
   "execution_count": 6,
   "id": "0c697d35",
   "metadata": {},
   "outputs": [
    {
     "data": {
      "text/plain": [
       "(22.58061228027388, 46.478211249137885)"
      ]
     },
     "execution_count": 6,
     "metadata": {},
     "output_type": "execute_result"
    }
   ],
   "source": [
    "confidence = 0.9999\n",
    "st.t.interval(confidence, len(data['cook_time'])-1, loc = data['cook_time'].mean(), scale = st.sem(data['cook_time']))"
   ]
  },
  {
   "cell_type": "code",
   "execution_count": 7,
   "id": "0ade347a",
   "metadata": {},
   "outputs": [
    {
     "data": {
      "text/plain": [
       "(23.605077691716737, 38.606687014165615)"
      ]
     },
     "execution_count": 7,
     "metadata": {},
     "output_type": "execute_result"
    }
   ],
   "source": [
    "confidence = 0.90\n",
    "st.t.interval(confidence, len(data['prep_time'])-1, loc = data['prep_time'].mean(), scale = st.sem(data['prep_time']))"
   ]
  },
  {
   "cell_type": "code",
   "execution_count": 8,
   "id": "57f71c04",
   "metadata": {},
   "outputs": [
    {
     "data": {
      "text/plain": [
       "(22.158086138164826, 40.053678567717526)"
      ]
     },
     "execution_count": 8,
     "metadata": {},
     "output_type": "execute_result"
    }
   ],
   "source": [
    "confidence = 0.95\n",
    "st.t.interval(confidence, len(data['prep_time'])-1, loc = data['prep_time'].mean(), scale = st.sem(data['prep_time']))"
   ]
  },
  {
   "cell_type": "code",
   "execution_count": 9,
   "id": "6bad5e64",
   "metadata": {},
   "outputs": [
    {
     "data": {
      "text/plain": [
       "(19.313943614026076, 42.89782109185627)"
      ]
     },
     "execution_count": 9,
     "metadata": {},
     "output_type": "execute_result"
    }
   ],
   "source": [
    "confidence = 0.99\n",
    "st.t.interval(confidence, len(data['prep_time'])-1, loc = data['prep_time'].mean(), scale = st.sem(data['prep_time']))"
   ]
  },
  {
   "cell_type": "code",
   "execution_count": 10,
   "id": "c761ca2a",
   "metadata": {},
   "outputs": [
    {
     "data": {
      "text/plain": [
       "(13.14407949000407, 49.067685215878285)"
      ]
     },
     "execution_count": 10,
     "metadata": {},
     "output_type": "execute_result"
    }
   ],
   "source": [
    "confidence = 0.9999\n",
    "st.t.interval(confidence, len(data['prep_time'])-1, loc = data['prep_time'].mean(), scale = st.sem(data['prep_time']))"
   ]
  },
  {
   "cell_type": "code",
   "execution_count": 11,
   "id": "6c815211",
   "metadata": {},
   "outputs": [
    {
     "data": {
      "text/plain": [
       "(-19.11247992263021, 81.32424462851256)"
      ]
     },
     "execution_count": 11,
     "metadata": {},
     "output_type": "execute_result"
    }
   ],
   "source": [
    "confidence = 0.95\n",
    "st.t.interval(confidence, len(data['prep_time'])-1, loc = data['prep_time'].mean(), scale = len(data['prep_time'])*0.10)"
   ]
  },
  {
   "cell_type": "code",
   "execution_count": null,
   "id": "c40f6439",
   "metadata": {},
   "outputs": [],
   "source": []
  }
 ],
 "metadata": {
  "kernelspec": {
   "display_name": "Python 3 (ipykernel)",
   "language": "python",
   "name": "python3"
  },
  "language_info": {
   "codemirror_mode": {
    "name": "ipython",
    "version": 3
   },
   "file_extension": ".py",
   "mimetype": "text/x-python",
   "name": "python",
   "nbconvert_exporter": "python",
   "pygments_lexer": "ipython3",
   "version": "3.9.13"
  }
 },
 "nbformat": 4,
 "nbformat_minor": 5
}
